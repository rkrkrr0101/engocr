{
 "cells": [
  {
   "cell_type": "code",
   "execution_count": 19,
   "metadata": {},
   "outputs": [],
   "source": [
    "import random\n",
    "import os\n",
    "import cv2\n",
    "import matplotlib.pyplot as plt\n",
    "import json\n",
    "from PIL import Image\n",
    "import re\n",
    "import unidecode\n",
    "import winsound as sd"
   ]
  },
  {
   "cell_type": "code",
   "execution_count": 20,
   "metadata": {},
   "outputs": [],
   "source": [
    "def beepsound():\n",
    "    fr = 2000    # range : 37 ~ 32767\n",
    "    du = 1000     # 1000 ms ==1second\n",
    "    sd.Beep(fr, du) # winsound.Beep(frequency, duration)"
   ]
  },
  {
   "cell_type": "code",
   "execution_count": 14,
   "metadata": {},
   "outputs": [],
   "source": [
    "imgpath='C:/Users/User/Documents/github/study/ocr/yolo/YOLOv3/train_val_images/train_images/'\n",
    "croptrainpath='C:/Users/User/Documents/github/study/ocr/croptrainimage/'\n",
    "cropvalpath='C:/Users/User/Documents/github/study/ocr/cropvalimage/'\n",
    "imgfile=os.listdir(imgpath)\n",
    "trainjsonfile=json.load(open('C:/Users/User/Documents/github/study/ocr/yolo/YOLOv3/TextOCR_0.1_train.json'))\n",
    "valjsonfile=json.load(open('C:/Users/User/Documents/github/study/ocr/yolo/YOLOv3/TextOCR_0.1_val.json'))"
   ]
  },
  {
   "cell_type": "code",
   "execution_count": 28,
   "metadata": {},
   "outputs": [],
   "source": [
    "id=[]\n",
    "\n",
    "for img in trainjsonfile['anns']:\n",
    "    id.append(img)"
   ]
  },
  {
   "cell_type": "code",
   "execution_count": 29,
   "metadata": {},
   "outputs": [],
   "source": [
    "imgdir=''\n",
    "imgid=''\n",
    "cropimgid=''\n",
    "minx,miny,maxx,maxy=0,0,0,0\n",
    "labeltext=''\n",
    "aanobbox=[]\n",
    "p=re.compile('[a-zA-Z0-9]')\n",
    "\n",
    "annodata={f:[] for f in id }\n",
    "for idx,anno in enumerate(trainjsonfile['anns']):\n",
    "    deepanno=trainjsonfile['anns'][anno]\n",
    "    \n",
    "    imgid=deepanno['image_id']\n",
    "    cropimgid=deepanno['id']\n",
    "    \n",
    "    minx=int(deepanno['bbox'][0])\n",
    "    miny=int(deepanno['bbox'][1])\n",
    "    maxx=int(deepanno['bbox'][0]+deepanno['bbox'][2])\n",
    "    maxy=int(deepanno['bbox'][1]+deepanno['bbox'][3])\n",
    "    deepanno['utf8_string']=unidecode.unidecode(deepanno['utf8_string'])  #알파벳비슷한거바꾸고 정규표현식으로 특수문자제거\n",
    "    labeltext=list(filter(p.match ,deepanno['utf8_string']))\n",
    "    if len(labeltext)!=0:\n",
    "        oriimage=Image.open(imgpath+imgid+'.jpg')\n",
    "        cropimage=oriimage.crop((minx,miny,maxx,maxy))\n",
    "        cropimage.save(croptrainpath+cropimgid+'.jpg')\n",
    "        labeltext=''.join(labeltext)\n",
    "        rtnstr={'cropimgid':cropimgid,'label':str.lower(labeltext),'imgid':imgid,'labellangth':len(labeltext)}\n",
    "        annodata[cropimgid]=rtnstr\n",
    "        \n",
    "        \n",
    "    \n",
    "beepsound()  "
   ]
  },
  {
   "cell_type": "code",
   "execution_count": 31,
   "metadata": {},
   "outputs": [],
   "source": [
    "copydata={}\n",
    "for i in annodata:\n",
    "    deepjson=annodata[i]\n",
    "    if deepjson!=[]:\n",
    "        copydata[i]=annodata[i]\n",
    "    \n",
    "        \n",
    "    \n"
   ]
  },
  {
   "cell_type": "code",
   "execution_count": 32,
   "metadata": {},
   "outputs": [],
   "source": [
    "with open('traincrnn.json','w') as file:\n",
    "    json.dump(copydata,file)"
   ]
  }
 ],
 "metadata": {
  "kernelspec": {
   "display_name": "Python 3",
   "language": "python",
   "name": "python3"
  },
  "language_info": {
   "codemirror_mode": {
    "name": "ipython",
    "version": 3
   },
   "file_extension": ".py",
   "mimetype": "text/x-python",
   "name": "python",
   "nbconvert_exporter": "python",
   "pygments_lexer": "ipython3",
   "version": "3.6.7"
  }
 },
 "nbformat": 4,
 "nbformat_minor": 4
}

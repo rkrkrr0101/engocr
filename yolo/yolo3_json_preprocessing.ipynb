{
 "cells": [
  {
   "cell_type": "code",
   "execution_count": 86,
   "metadata": {},
   "outputs": [],
   "source": [
    "import random\n",
    "import os\n",
    "import cv2\n",
    "import matplotlib.pyplot as plt\n",
    "import json\n"
   ]
  },
  {
   "cell_type": "code",
   "execution_count": 87,
   "metadata": {},
   "outputs": [],
   "source": [
    "imgfile=os.listdir('C:/Users/User/Documents/github/study/ocr/새 폴더 (2)/YOLOv3/train_val_images/train_images')"
   ]
  },
  {
   "cell_type": "code",
   "execution_count": 88,
   "metadata": {},
   "outputs": [],
   "source": [
    "jsonfile=json.load(open('C:/Users/User/Documents/github/study/ocr/새 폴더 (2)/YOLOv3/TextOCR_0.1_train.json'))"
   ]
  },
  {
   "cell_type": "code",
   "execution_count": 89,
   "metadata": {},
   "outputs": [],
   "source": [
    "id=[]\n",
    "\n",
    "for img in jsonfile['imgs']:\n",
    "    id.append(img)\n"
   ]
  },
  {
   "cell_type": "code",
   "execution_count": 90,
   "metadata": {},
   "outputs": [],
   "source": [
    "path='C:/Users/User/Documents/github/study/ocr/새 폴더 (2)/YOLOv3/train_val_images/train_images/'\n",
    "imgdir=''\n",
    "imgid=''\n",
    "minx,miny,maxx,maxy=0,0,0,0\n",
    "aanobbox=[]\n",
    "classnum=0"
   ]
  },
  {
   "cell_type": "code",
   "execution_count": 91,
   "metadata": {},
   "outputs": [],
   "source": [
    "annodata={f:[] for f in id }\n",
    "for idx,anno in enumerate(jsonfile['anns']):\n",
    "    deepanno=jsonfile['anns'][anno]\n",
    "    \n",
    "    imgid=deepanno['image_id']\n",
    "    \n",
    "    minx=int(deepanno['bbox'][0])\n",
    "    miny=int(deepanno['bbox'][1])\n",
    "    maxx=int(deepanno['bbox'][0]+deepanno['bbox'][2])\n",
    "    maxy=int(deepanno['bbox'][1]+deepanno['bbox'][3])\n",
    "    \n",
    "    rtnstr=str(minx)+','+str(miny)+','+str(maxx)+','+str(maxy)+','+str(classnum)\n",
    "    \n",
    "    annodata[imgid].append(rtnstr)"
   ]
  },
  {
   "cell_type": "code",
   "execution_count": 92,
   "metadata": {},
   "outputs": [],
   "source": [
    "returnstr=''\n",
    "for annoid in annodata:\n",
    "    returnstr+=path+annoid+'.jpg'+' '\n",
    "    for andata in annodata[annoid]:\n",
    "        returnstr+=andata+' '\n",
    "    \n",
    "    returnstr=returnstr[:-1]\n",
    "    returnstr+='\\n'\n",
    "    \n",
    "    "
   ]
  },
  {
   "cell_type": "code",
   "execution_count": 93,
   "metadata": {},
   "outputs": [],
   "source": [
    "f=open('C:/Users/User/Documents/github/study/ocr/새 폴더 (2)/YOLOv3/train.txt','w')\n",
    "f.write(returnstr)\n",
    "f.close()"
   ]
  }
 ],
 "metadata": {
  "kernelspec": {
   "display_name": "Python 3",
   "language": "python",
   "name": "python3"
  },
  "language_info": {
   "codemirror_mode": {
    "name": "ipython",
    "version": 3
   },
   "file_extension": ".py",
   "mimetype": "text/x-python",
   "name": "python",
   "nbconvert_exporter": "python",
   "pygments_lexer": "ipython3",
   "version": "3.6.7"
  }
 },
 "nbformat": 4,
 "nbformat_minor": 4
}

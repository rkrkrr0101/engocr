{
 "cells": [
  {
   "cell_type": "code",
   "execution_count": 1,
   "metadata": {},
   "outputs": [],
   "source": [
    "from modelcreate.modelcreate import *\n",
    "from yolocrnn_util import *\n"
   ]
  },
  {
   "cell_type": "code",
   "execution_count": 2,
   "metadata": {},
   "outputs": [
    {
     "name": "stdout",
     "output_type": "stream",
     "text": [
      "Create YOLOv3 model with 9 anchors and 1 classes.\n",
      "[<KerasTensor: shape=(None, None, None, 18) dtype=float32 (created by layer 'conv2d_6')>, <KerasTensor: shape=(None, None, None, 18) dtype=float32 (created by layer 'conv2d_14')>, <KerasTensor: shape=(None, None, None, 18) dtype=float32 (created by layer 'conv2d_22')>]\n",
      "a\n",
      "WARNING:tensorflow:`period` argument is deprecated. Please use `save_freq` to specify the frequency in number of batches seen.\n"
     ]
    }
   ],
   "source": [
    "yolomodel=createyolo()\n",
    "yolomodel.load_weights('outputmodel/yolomodel/yoloweight.h5',by_name=True)\n",
    "#yolo모델생성\n",
    "crnnmodel=crnn()\n",
    "crnnmodel.load_weights('outputmodel/crnnmodel/crnnweight.h5')\n",
    "#crnn모델생성"
   ]
  },
  {
   "cell_type": "code",
   "execution_count": 3,
   "metadata": {},
   "outputs": [],
   "source": [
    "imgpath='D:/engocr/yolo/YOLOv3/test_images/test_images/'+'4b3424745d354764.jpg'\n",
    "yoloimg=yoloimagecreate(imgpath)\n",
    "\n",
    "\n",
    "#yolo모델이미지생성\n",
    "features=yolomodel.predict(yoloimg)\n",
    "#featureslen=len(features)\n",
    "#yolo모델예측"
   ]
  },
  {
   "cell_type": "code",
   "execution_count": 4,
   "metadata": {},
   "outputs": [],
   "source": [
    "boxes=yolopostprocess(features,0.2)"
   ]
  },
  {
   "cell_type": "code",
   "execution_count": 5,
   "metadata": {},
   "outputs": [],
   "source": [
    "outputdata=crnnpredict(crnnmodel,imgpath,boxes)"
   ]
  },
  {
   "cell_type": "code",
   "execution_count": 6,
   "metadata": {},
   "outputs": [
    {
     "name": "stdout",
     "output_type": "stream",
     "text": [
      "['sro', 'rr01', 'are', 'pare']\n"
     ]
    }
   ],
   "source": [
    "print(postcrnn(outputdata))"
   ]
  },
  {
   "cell_type": "code",
   "execution_count": 13,
   "metadata": {},
   "outputs": [],
   "source": [
    "\"\"\"\n",
    "import cv2\n",
    "import copy\n",
    "abc=imagecreate(imgpath)\n",
    "abcd=copy.deepcopy(abc[int(boxes[2][0]):  int(boxes[2][2]),int(boxes[2][1]): int(boxes[2][3])])\n",
    "cv2.imshow('ada',abcd)\n",
    "cv2.waitKey()\n",
    "cv2.destroyAllWindows()\n",
    "\"\"\""
   ]
  },
  {
   "cell_type": "code",
   "execution_count": 12,
   "metadata": {},
   "outputs": [
    {
     "name": "stdout",
     "output_type": "stream",
     "text": [
      "rr01 pare\n"
     ]
    }
   ],
   "source": [
    "#a=postcrnn(outputdata)\n",
    "#print(a[1],a[3])"
   ]
  },
  {
   "cell_type": "code",
   "execution_count": null,
   "metadata": {},
   "outputs": [],
   "source": []
  }
 ],
 "metadata": {
  "kernelspec": {
   "display_name": "Python 3",
   "language": "python",
   "name": "python3"
  },
  "language_info": {
   "codemirror_mode": {
    "name": "ipython",
    "version": 3
   },
   "file_extension": ".py",
   "mimetype": "text/x-python",
   "name": "python",
   "nbconvert_exporter": "python",
   "pygments_lexer": "ipython3",
   "version": "3.6.7"
  }
 },
 "nbformat": 4,
 "nbformat_minor": 4
}

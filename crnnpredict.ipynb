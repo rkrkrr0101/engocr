{
 "cells": [
  {
   "cell_type": "code",
   "execution_count": 1,
   "metadata": {},
   "outputs": [],
   "source": [
    "import os\n",
    "import tensorflow as tf\n",
    "from tensorflow import keras\n",
    "from tensorflow.keras.layers import Activation,BatchNormalization,Lambda,Input,Conv2D,Bidirectional,LSTM, Concatenate, MaxPooling2D,GlobalAveragePooling2D\n",
    "import tensorflow.keras.backend as K\n",
    "import pandas as pd\n",
    "import matplotlib.pyplot as plt\n",
    "import numpy as np\n",
    "from time import time\n",
    "import datetime\n",
    "import numpy as np\n",
    "from generater import crnnGenerator\n",
    "import logging\n",
    "\n",
    "logger=tf.get_logger()\n",
    "logger.setLevel(logging.ERROR)"
   ]
  },
  {
   "cell_type": "code",
   "execution_count": 2,
   "metadata": {},
   "outputs": [],
   "source": [
    "\n",
    "def crnn():\n",
    "    x=image_input=Input(name='image_input',shape=(128,64,1),dtype='float32')\n",
    "    \"\"\"\n",
    "    minx=Input(name='minx',shape=[1],dtype='float32')\n",
    "    miny=Input(name='miny',shape=[1],dtype='float32')\n",
    "    maxx=Input(name='maxx',shape=[1],dtype='float32')\n",
    "    maxy=Input(name='maxy',shape=[1],dtype='float32')\n",
    "    def cropimage(img,minx=0,miny=0,maxx=0,maxy=0):\n",
    "        \n",
    "        return tf.image.crop_to_bounding_box(img,minx,miny,maxx-minx,maxy-miny)\n",
    "    x=Lambda(cropimage)([x,minx,miny,maxx,maxy])\n",
    "    \n",
    "    \"\"\"\n",
    "        \n",
    "    x=Conv2D(64, (3, 3), strides=(1, 1), activation='relu', padding='same', name='conv1_1')(x)#128 64 64\n",
    "    x=MaxPooling2D(pool_size=(2, 2), name='pool1', padding='same')(x)#64 32 64\n",
    "    \n",
    "    x=Conv2D(128, (3, 3), strides=(1, 1), activation='relu', padding='same', name='conv2_1')(x)#64 32 128\n",
    "    x=MaxPooling2D(pool_size=(2, 2), name='pool2', padding='same')(x)# 32 16 128\n",
    "\n",
    "    x=Conv2D(256, (3, 3), strides=(1, 1), activation='relu', padding='same', name='conv3_1')(x)#32 16 256\n",
    "    x=Conv2D(256, (3, 3), strides=(1, 1), activation='relu', padding='same', name='conv3_2')(x)#32 16 256\n",
    "    x=MaxPooling2D(pool_size=(1, 2), name='pool3', padding='same')(x)# 32 8 256\n",
    "    \n",
    "    x=Conv2D(512, (3, 3), strides=(1, 1), activation='relu', padding='same', name='conv4_1')(x)#32 8 512\n",
    "    x=BatchNormalization(name='batch1')(x)\n",
    "    \n",
    "    x=Conv2D(512, (3, 3), strides=(1, 1), activation='relu', padding='same', name='conv5_1')(x)#32 8 512\n",
    "    \n",
    "    x=BatchNormalization(name='batch2')(x)\n",
    "    x=MaxPooling2D(pool_size=(1, 2), name='pool5')(x)# 32 4 512\n",
    "    \n",
    "    x=aa=Conv2D(512, (2, 2), strides=(1, 1), activation='relu', padding='same', name='conv6_1')(x)# 32 4 512\n",
    "    x=keras.layers.Reshape(target_shape=(32,2048),name='reshape')(x)#32 2048\n",
    "    x=keras.layers.Dense(64,activation='relu',name='dense1')(x)#32 64\n",
    "    print(aa)\n",
    "    x=Bidirectional(LSTM(256, return_sequences=True))(x)\n",
    "    x=Bidirectional(LSTM(256, return_sequences=True))(x)#32 512\n",
    "    \n",
    "    num_classes=36+1\n",
    "    x=keras.layers.Dense(num_classes, name='dense2')(x)#알파벳+숫자#1953 36\n",
    "    \n",
    "    x=y_pred= Activation('softmax', name='softmax')(x)#1953 36\n",
    "    \n",
    "   # model_pred=keras.models.Model(inputs=[image_input,minx,miny,maxx,maxy],outputs=x)\n",
    "    model_pred=keras.models.Model(inputs=image_input,outputs=x)\n",
    "    \n",
    "    maxstringlen=int(y_pred.shape[1])\n",
    "    #maxstringlen=100\n",
    "    \n",
    "    def ctc_lambda_func(args):\n",
    "        y_pred,labels, input_length, label_length = args\n",
    "          #y_pred = y_pred[:, 2:, :] \n",
    "        return K.ctc_batch_cost(y_true=labels,y_pred=y_pred,input_length=input_length,label_length=label_length)    \n",
    "        #return tf.nn.ctc_loss(labels=labels,logits=y_pred,logit_length=input_length,label_length=label_length,logits_time_major=False)    \n",
    "    \n",
    "    labels = Input(name='labels', shape=[maxstringlen], dtype='float32')\n",
    "    input_length = Input(name='input_length', shape=[1], dtype='int64')\n",
    "    label_length = Input(name='label_length', shape=[1], dtype='int64') \n",
    "    \n",
    "    ctcloss=Lambda(ctc_lambda_func,output_shape=(1,),name='ctcloss')([y_pred,labels,input_length,label_length])\n",
    "    \n",
    "   # model_train=keras.models.Model(inputs=[image_input,minx,miny,maxx,maxy,labels,input_length,label_length],outputs=ctc_loss)\n",
    "    model_train=keras.models.Model(inputs=[image_input,labels,input_length,label_length],outputs=ctcloss)\n",
    "    \n",
    "    return model_train,model_pred,maxstringlen\n",
    "\n",
    "    "
   ]
  },
  {
   "cell_type": "code",
   "execution_count": 3,
   "metadata": {},
   "outputs": [
    {
     "name": "stdout",
     "output_type": "stream",
     "text": [
      "KerasTensor(type_spec=TensorSpec(shape=(None, 32, 4, 512), dtype=tf.float32, name=None), name='conv6_1/Relu:0', description=\"created by layer 'conv6_1'\")\n"
     ]
    }
   ],
   "source": [
    "traincrnn,predcrnn,inputlength=crnn()"
   ]
  },
  {
   "cell_type": "code",
   "execution_count": 4,
   "metadata": {},
   "outputs": [],
   "source": [
    "predcrnn.load_weights('D:/engocr/checkpoints/202107182100_crnn_train_v1/weights.003.h5')"
   ]
  },
  {
   "cell_type": "code",
   "execution_count": 5,
   "metadata": {},
   "outputs": [
    {
     "name": "stdout",
     "output_type": "stream",
     "text": [
      "Model: \"model\"\n",
      "_________________________________________________________________\n",
      "Layer (type)                 Output Shape              Param #   \n",
      "=================================================================\n",
      "image_input (InputLayer)     [(None, 128, 64, 1)]      0         \n",
      "_________________________________________________________________\n",
      "conv1_1 (Conv2D)             (None, 128, 64, 64)       640       \n",
      "_________________________________________________________________\n",
      "pool1 (MaxPooling2D)         (None, 64, 32, 64)        0         \n",
      "_________________________________________________________________\n",
      "conv2_1 (Conv2D)             (None, 64, 32, 128)       73856     \n",
      "_________________________________________________________________\n",
      "pool2 (MaxPooling2D)         (None, 32, 16, 128)       0         \n",
      "_________________________________________________________________\n",
      "conv3_1 (Conv2D)             (None, 32, 16, 256)       295168    \n",
      "_________________________________________________________________\n",
      "conv3_2 (Conv2D)             (None, 32, 16, 256)       590080    \n",
      "_________________________________________________________________\n",
      "pool3 (MaxPooling2D)         (None, 32, 8, 256)        0         \n",
      "_________________________________________________________________\n",
      "conv4_1 (Conv2D)             (None, 32, 8, 512)        1180160   \n",
      "_________________________________________________________________\n",
      "batch1 (BatchNormalization)  (None, 32, 8, 512)        2048      \n",
      "_________________________________________________________________\n",
      "conv5_1 (Conv2D)             (None, 32, 8, 512)        2359808   \n",
      "_________________________________________________________________\n",
      "batch2 (BatchNormalization)  (None, 32, 8, 512)        2048      \n",
      "_________________________________________________________________\n",
      "pool5 (MaxPooling2D)         (None, 32, 4, 512)        0         \n",
      "_________________________________________________________________\n",
      "conv6_1 (Conv2D)             (None, 32, 4, 512)        1049088   \n",
      "_________________________________________________________________\n",
      "reshape (Reshape)            (None, 32, 2048)          0         \n",
      "_________________________________________________________________\n",
      "dense1 (Dense)               (None, 32, 64)            131136    \n",
      "_________________________________________________________________\n",
      "bidirectional (Bidirectional (None, 32, 512)           657408    \n",
      "_________________________________________________________________\n",
      "bidirectional_1 (Bidirection (None, 32, 512)           1574912   \n",
      "_________________________________________________________________\n",
      "dense2 (Dense)               (None, 32, 37)            18981     \n",
      "_________________________________________________________________\n",
      "softmax (Activation)         (None, 32, 37)            0         \n",
      "=================================================================\n",
      "Total params: 7,935,333\n",
      "Trainable params: 7,933,285\n",
      "Non-trainable params: 2,048\n",
      "_________________________________________________________________\n"
     ]
    }
   ],
   "source": [
    "predcrnn.summary()"
   ]
  },
  {
   "cell_type": "code",
   "execution_count": 6,
   "metadata": {},
   "outputs": [],
   "source": [
    "import cv2"
   ]
  },
  {
   "cell_type": "code",
   "execution_count": 32,
   "metadata": {},
   "outputs": [],
   "source": [
    "imgw=128\n",
    "imgh=64\n",
    "\n",
    "img=cv2.imread('D:/engocr/abcd/'+'000adfe5b817011c_11.jpg',cv2.IMREAD_GRAYSCALE)\n",
    "img=cv2.resize(img,(imgw,imgh))\n",
    "\n",
    "img=img.astype(np.float32)\n",
    "img=(img / 255.0)\n",
    "#cv2.imshow('ada',img)\n",
    "#cv2.waitKey()\n",
    "#cv2.destroyAllWindows()\n",
    "\n",
    "#imgs[0,:,:]=img\n",
    "img=img.T\n",
    "img=np.expand_dims(img,axis=-1)\n",
    "img=np.expand_dims(img,axis=0)\n"
   ]
  },
  {
   "cell_type": "code",
   "execution_count": 33,
   "metadata": {},
   "outputs": [],
   "source": [
    "b=predcrnn.predict(img)"
   ]
  },
  {
   "cell_type": "code",
   "execution_count": 9,
   "metadata": {},
   "outputs": [
    {
     "data": {
      "text/plain": [
       "128"
      ]
     },
     "execution_count": 9,
     "metadata": {},
     "output_type": "execute_result"
    }
   ],
   "source": [
    "len(imgs[0,:,:])"
   ]
  },
  {
   "cell_type": "code",
   "execution_count": 10,
   "metadata": {},
   "outputs": [
    {
     "data": {
      "text/plain": [
       "128"
      ]
     },
     "execution_count": 10,
     "metadata": {},
     "output_type": "execute_result"
    }
   ],
   "source": [
    "len(img)"
   ]
  },
  {
   "cell_type": "code",
   "execution_count": 32,
   "metadata": {},
   "outputs": [
    {
     "data": {
      "text/plain": [
       "array([[64.],\n",
       "       [64.],\n",
       "       [64.],\n",
       "       [64.],\n",
       "       [64.],\n",
       "       [64.],\n",
       "       [64.],\n",
       "       [64.],\n",
       "       [64.],\n",
       "       [64.],\n",
       "       [64.],\n",
       "       [64.],\n",
       "       [64.],\n",
       "       [64.],\n",
       "       [64.],\n",
       "       [64.],\n",
       "       [64.],\n",
       "       [64.],\n",
       "       [64.],\n",
       "       [64.],\n",
       "       [64.],\n",
       "       [64.],\n",
       "       [64.],\n",
       "       [64.],\n",
       "       [64.],\n",
       "       [64.],\n",
       "       [64.],\n",
       "       [64.],\n",
       "       [64.],\n",
       "       [64.],\n",
       "       [64.],\n",
       "       [64.]])"
      ]
     },
     "execution_count": 32,
     "metadata": {},
     "output_type": "execute_result"
    }
   ],
   "source": [
    "inputlength=np.ones((32,1))*(128//2)\n",
    "inputlength"
   ]
  },
  {
   "cell_type": "code",
   "execution_count": 26,
   "metadata": {},
   "outputs": [],
   "source": [
    "def labels_to_text(labels):     \n",
    "    alphabet = \"abcdefghijklmnopqrstuvwxyz0123456789\"\n",
    "    return ''.join(list(map(lambda x: alphabet[int(x)], labels)))"
   ]
  },
  {
   "cell_type": "code",
   "execution_count": 28,
   "metadata": {},
   "outputs": [
    {
     "ename": "TypeError",
     "evalue": "only size-1 arrays can be converted to Python scalars",
     "output_type": "error",
     "traceback": [
      "\u001b[1;31m---------------------------------------------------------------------------\u001b[0m",
      "\u001b[1;31mTypeError\u001b[0m                                 Traceback (most recent call last)",
      "\u001b[1;32m<ipython-input-28-cabb5fe76368>\u001b[0m in \u001b[0;36m<module>\u001b[1;34m\u001b[0m\n\u001b[1;32m----> 1\u001b[1;33m \u001b[0mlabels_to_text\u001b[0m\u001b[1;33m(\u001b[0m\u001b[0mb\u001b[0m\u001b[1;33m[\u001b[0m\u001b[1;36m0\u001b[0m\u001b[1;33m]\u001b[0m\u001b[1;33m)\u001b[0m\u001b[1;33m\u001b[0m\u001b[1;33m\u001b[0m\u001b[0m\n\u001b[0m",
      "\u001b[1;32m<ipython-input-26-1383449c76f7>\u001b[0m in \u001b[0;36mlabels_to_text\u001b[1;34m(labels)\u001b[0m\n\u001b[0;32m      1\u001b[0m \u001b[1;32mdef\u001b[0m \u001b[0mlabels_to_text\u001b[0m\u001b[1;33m(\u001b[0m\u001b[0mlabels\u001b[0m\u001b[1;33m)\u001b[0m\u001b[1;33m:\u001b[0m\u001b[1;33m\u001b[0m\u001b[1;33m\u001b[0m\u001b[0m\n\u001b[0;32m      2\u001b[0m     \u001b[0malphabet\u001b[0m \u001b[1;33m=\u001b[0m \u001b[1;34m\"abcdefghijklmnopqrstuvwxyz0123456789\"\u001b[0m\u001b[1;33m\u001b[0m\u001b[1;33m\u001b[0m\u001b[0m\n\u001b[1;32m----> 3\u001b[1;33m     \u001b[1;32mreturn\u001b[0m \u001b[1;34m''\u001b[0m\u001b[1;33m.\u001b[0m\u001b[0mjoin\u001b[0m\u001b[1;33m(\u001b[0m\u001b[0mlist\u001b[0m\u001b[1;33m(\u001b[0m\u001b[0mmap\u001b[0m\u001b[1;33m(\u001b[0m\u001b[1;32mlambda\u001b[0m \u001b[0mx\u001b[0m\u001b[1;33m:\u001b[0m \u001b[0malphabet\u001b[0m\u001b[1;33m[\u001b[0m\u001b[0mint\u001b[0m\u001b[1;33m(\u001b[0m\u001b[0mx\u001b[0m\u001b[1;33m)\u001b[0m\u001b[1;33m]\u001b[0m\u001b[1;33m,\u001b[0m \u001b[0mlabels\u001b[0m\u001b[1;33m)\u001b[0m\u001b[1;33m)\u001b[0m\u001b[1;33m)\u001b[0m\u001b[1;33m\u001b[0m\u001b[1;33m\u001b[0m\u001b[0m\n\u001b[0m",
      "\u001b[1;32m<ipython-input-26-1383449c76f7>\u001b[0m in \u001b[0;36m<lambda>\u001b[1;34m(x)\u001b[0m\n\u001b[0;32m      1\u001b[0m \u001b[1;32mdef\u001b[0m \u001b[0mlabels_to_text\u001b[0m\u001b[1;33m(\u001b[0m\u001b[0mlabels\u001b[0m\u001b[1;33m)\u001b[0m\u001b[1;33m:\u001b[0m\u001b[1;33m\u001b[0m\u001b[1;33m\u001b[0m\u001b[0m\n\u001b[0;32m      2\u001b[0m     \u001b[0malphabet\u001b[0m \u001b[1;33m=\u001b[0m \u001b[1;34m\"abcdefghijklmnopqrstuvwxyz0123456789\"\u001b[0m\u001b[1;33m\u001b[0m\u001b[1;33m\u001b[0m\u001b[0m\n\u001b[1;32m----> 3\u001b[1;33m     \u001b[1;32mreturn\u001b[0m \u001b[1;34m''\u001b[0m\u001b[1;33m.\u001b[0m\u001b[0mjoin\u001b[0m\u001b[1;33m(\u001b[0m\u001b[0mlist\u001b[0m\u001b[1;33m(\u001b[0m\u001b[0mmap\u001b[0m\u001b[1;33m(\u001b[0m\u001b[1;32mlambda\u001b[0m \u001b[0mx\u001b[0m\u001b[1;33m:\u001b[0m \u001b[0malphabet\u001b[0m\u001b[1;33m[\u001b[0m\u001b[0mint\u001b[0m\u001b[1;33m(\u001b[0m\u001b[0mx\u001b[0m\u001b[1;33m)\u001b[0m\u001b[1;33m]\u001b[0m\u001b[1;33m,\u001b[0m \u001b[0mlabels\u001b[0m\u001b[1;33m)\u001b[0m\u001b[1;33m)\u001b[0m\u001b[1;33m)\u001b[0m\u001b[1;33m\u001b[0m\u001b[1;33m\u001b[0m\u001b[0m\n\u001b[0m",
      "\u001b[1;31mTypeError\u001b[0m: only size-1 arrays can be converted to Python scalars"
     ]
    }
   ],
   "source": [
    "labels_to_text(b[0])"
   ]
  },
  {
   "cell_type": "code",
   "execution_count": 34,
   "metadata": {},
   "outputs": [
    {
     "data": {
      "text/plain": [
       "array([0.04680976, 0.01513381, 0.02014629, 0.01371977, 0.03333002,\n",
       "       0.01379239, 0.01124316, 0.01857329, 0.03182839, 0.01147583,\n",
       "       0.0109255 , 0.01439246, 0.02108818, 0.02467737, 0.03622718,\n",
       "       0.01172854, 0.00697642, 0.03036331, 0.02669594, 0.03060271,\n",
       "       0.01368243, 0.00920168, 0.00847765, 0.00794493, 0.01073758,\n",
       "       0.00473634, 0.01230866, 0.00517081, 0.01032454, 0.00864541,\n",
       "       0.00961741, 0.00620769, 0.00700869, 0.00711093, 0.01142603,\n",
       "       0.00935825, 0.42831066], dtype=float32)"
      ]
     },
     "execution_count": 34,
     "metadata": {},
     "output_type": "execute_result"
    }
   ],
   "source": [
    "b[0][0]"
   ]
  },
  {
   "cell_type": "code",
   "execution_count": 35,
   "metadata": {},
   "outputs": [
    {
     "data": {
      "text/plain": [
       "[36,\n",
       " 36,\n",
       " 36,\n",
       " 36,\n",
       " 36,\n",
       " 36,\n",
       " 36,\n",
       " 36,\n",
       " 36,\n",
       " 36,\n",
       " 36,\n",
       " 36,\n",
       " 36,\n",
       " 36,\n",
       " 36,\n",
       " 36,\n",
       " 36,\n",
       " 36,\n",
       " 36,\n",
       " 36,\n",
       " 36,\n",
       " 36,\n",
       " 36,\n",
       " 36,\n",
       " 36,\n",
       " 36,\n",
       " 36,\n",
       " 36,\n",
       " 36,\n",
       " 36,\n",
       " 36,\n",
       " 36]"
      ]
     },
     "execution_count": 35,
     "metadata": {},
     "output_type": "execute_result"
    }
   ],
   "source": [
    "res=[]\n",
    "for data in b[0]:\n",
    "    listdata=list(data)\n",
    "    res.append( listdata.index(max(listdata)))\n",
    "res\n",
    "resu=[]\n",
    "for i,abc in enumerate(res) :\n",
    "    if abc!=36:\n",
    "        resu.append(abc)\n",
    "res"
   ]
  },
  {
   "cell_type": "code",
   "execution_count": 25,
   "metadata": {},
   "outputs": [],
   "source": [
    "ydata=np.ones([8,30])"
   ]
  },
  {
   "cell_type": "code",
   "execution_count": 26,
   "metadata": {},
   "outputs": [
    {
     "data": {
      "text/plain": [
       "array([[1., 1., 1., 1., 1., 1., 1., 1., 1., 1., 1., 1., 1., 1., 1., 1.,\n",
       "        1., 1., 1., 1., 1., 1., 1., 1., 1., 1., 1., 1., 1., 1.],\n",
       "       [1., 1., 1., 1., 1., 1., 1., 1., 1., 1., 1., 1., 1., 1., 1., 1.,\n",
       "        1., 1., 1., 1., 1., 1., 1., 1., 1., 1., 1., 1., 1., 1.],\n",
       "       [1., 1., 1., 1., 1., 1., 1., 1., 1., 1., 1., 1., 1., 1., 1., 1.,\n",
       "        1., 1., 1., 1., 1., 1., 1., 1., 1., 1., 1., 1., 1., 1.],\n",
       "       [1., 1., 1., 1., 1., 1., 1., 1., 1., 1., 1., 1., 1., 1., 1., 1.,\n",
       "        1., 1., 1., 1., 1., 1., 1., 1., 1., 1., 1., 1., 1., 1.],\n",
       "       [1., 1., 1., 1., 1., 1., 1., 1., 1., 1., 1., 1., 1., 1., 1., 1.,\n",
       "        1., 1., 1., 1., 1., 1., 1., 1., 1., 1., 1., 1., 1., 1.],\n",
       "       [1., 1., 1., 1., 1., 1., 1., 1., 1., 1., 1., 1., 1., 1., 1., 1.,\n",
       "        1., 1., 1., 1., 1., 1., 1., 1., 1., 1., 1., 1., 1., 1.],\n",
       "       [1., 1., 1., 1., 1., 1., 1., 1., 1., 1., 1., 1., 1., 1., 1., 1.,\n",
       "        1., 1., 1., 1., 1., 1., 1., 1., 1., 1., 1., 1., 1., 1.],\n",
       "       [1., 1., 1., 1., 1., 1., 1., 1., 1., 1., 1., 1., 1., 1., 1., 1.,\n",
       "        1., 1., 1., 1., 1., 1., 1., 1., 1., 1., 1., 1., 1., 1.]])"
      ]
     },
     "execution_count": 26,
     "metadata": {},
     "output_type": "execute_result"
    }
   ],
   "source": [
    "ydata"
   ]
  },
  {
   "cell_type": "code",
   "execution_count": null,
   "metadata": {},
   "outputs": [],
   "source": []
  }
 ],
 "metadata": {
  "kernelspec": {
   "display_name": "Python 3",
   "language": "python",
   "name": "python3"
  },
  "language_info": {
   "codemirror_mode": {
    "name": "ipython",
    "version": 3
   },
   "file_extension": ".py",
   "mimetype": "text/x-python",
   "name": "python",
   "nbconvert_exporter": "python",
   "pygments_lexer": "ipython3",
   "version": "3.6.7"
  }
 },
 "nbformat": 4,
 "nbformat_minor": 4
}

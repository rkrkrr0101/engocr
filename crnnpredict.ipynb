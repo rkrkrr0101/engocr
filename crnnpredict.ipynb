{
 "cells": [
  {
   "cell_type": "code",
   "execution_count": 1,
   "metadata": {},
   "outputs": [],
   "source": [
    "import os\n",
    "import tensorflow as tf\n",
    "from tensorflow import keras\n",
    "from tensorflow.keras.layers import Activation,BatchNormalization,Lambda,Input,Conv2D,Bidirectional,LSTM, Concatenate, MaxPooling2D,GlobalAveragePooling2D\n",
    "import tensorflow.keras.backend as K\n",
    "import pandas as pd\n",
    "import matplotlib.pyplot as plt\n",
    "import numpy as np\n",
    "from time import time\n",
    "import datetime\n",
    "import numpy as np\n",
    "from generater import crnnGenerator\n",
    "import logging\n",
    "\n",
    "logger=tf.get_logger()\n",
    "logger.setLevel(logging.ERROR)"
   ]
  },
  {
   "cell_type": "code",
   "execution_count": 2,
   "metadata": {},
   "outputs": [],
   "source": [
    "\n",
    "def crnn():\n",
    "    x=image_input=Input(name='image_input',shape=(256,32,1))\n",
    "    \"\"\"\n",
    "    minx=Input(name='minx',shape=[1],dtype='float32')\n",
    "    miny=Input(name='miny',shape=[1],dtype='float32')\n",
    "    maxx=Input(name='maxx',shape=[1],dtype='float32')\n",
    "    maxy=Input(name='maxy',shape=[1],dtype='float32')\n",
    "    def cropimage(img,minx=0,miny=0,maxx=0,maxy=0):\n",
    "        \n",
    "        return tf.image.crop_to_bounding_box(img,minx,miny,maxx-minx,maxy-miny)\n",
    "    x=Lambda(cropimage)([x,minx,miny,maxx,maxy])\n",
    "    \n",
    "    \"\"\"\n",
    "        \n",
    "    x=Conv2D(64, (3, 3), strides=(1, 1), activation='relu', padding='same', name='conv1_1')(x)#128 64 64\n",
    "    x=MaxPooling2D(pool_size=(2, 2), strides=(2, 2), name='pool1', padding='same')(x)#64 32 64\n",
    "    \n",
    "    x=Conv2D(128, (3, 3), strides=(1, 1), activation='relu', padding='same', name='conv2_1')(x)#64 32 128\n",
    "    x=MaxPooling2D(pool_size=(2, 2), strides=(2, 2), name='pool2', padding='same')(x)# 32 16 128\n",
    "\n",
    "    x=Conv2D(256, (3, 3), strides=(1, 1), activation='relu', padding='same', name='conv3_1')(x)#32 16 256\n",
    "    x=Conv2D(256, (3, 3), strides=(1, 1), activation='relu', padding='same', name='conv3_2')(x)#32 16 256\n",
    "    x=MaxPooling2D(pool_size=(2, 2), strides=(1, 2), name='pool3', padding='same')(x)# 32 8 256\n",
    "    \n",
    "    x=Conv2D(512, (3, 3), strides=(1, 1), activation='relu', padding='same', name='conv4_1')(x)#32 8 512\n",
    "    x=BatchNormalization(name='batchnorm1')(x)\n",
    "    \n",
    "    x=Conv2D(512, (3, 3), strides=(1, 1), activation='relu', padding='same', name='conv5_1')(x)#32 8 512\n",
    "    \n",
    "    x=BatchNormalization(name='batchnorm2')(x)\n",
    "    x=MaxPooling2D(pool_size=(2, 2), strides=(1, 2),padding='valid', name='pool5')(x)# 32 4 512\n",
    "    \n",
    "    x=aa=Conv2D(512, (2, 2), strides=(1, 1), activation='relu', padding='valid', name='conv6_1')(x)# 32 4 512\n",
    "    s=x.shape\n",
    "    x=keras.layers.Reshape((s[1],s[3]),name='reshape_1')(x)#32 2048\n",
    "    x=Bidirectional(LSTM(256, return_sequences=True,name='bidirectional_1'))(x)\n",
    "    x=Bidirectional(LSTM(256, return_sequences=True,name='bidirectional_1'))(x)#32 512\n",
    "    \n",
    "    num_classes=87\n",
    "    x=keras.layers.Dense(num_classes, name='dense1')(x)#알파벳+숫자#1953 36\n",
    "    \n",
    "    x=y_pred= Activation('softmax', name='softmax')(x)#1953 36\n",
    "    \n",
    "   # model_pred=keras.models.Model(inputs=[image_input,minx,miny,maxx,maxy],outputs=x)\n",
    "    model_pred=keras.models.Model(inputs=image_input,outputs=x)\n",
    "    \n",
    "    maxstringlen=s[1]\n",
    "    #maxstringlen=100\n",
    "    \n",
    "    def ctc_lambda_func(args):\n",
    "        y_pred,labels, input_length, label_length = args\n",
    "          #y_pred = y_pred[:, 2:, :] \n",
    "        return K.ctc_batch_cost(y_true=labels,y_pred=y_pred,input_length=input_length,label_length=label_length)    \n",
    "        #return tf.nn.ctc_loss(labels=labels,logits=y_pred,logit_length=input_length,label_length=label_length,logits_time_major=False)    \n",
    "    \n",
    "    labels = Input(name='labels', shape=[maxstringlen], dtype='float32')\n",
    "    input_length = Input(name='input_length', shape=[1], dtype='int64')\n",
    "    label_length = Input(name='label_length', shape=[1], dtype='int64') \n",
    "    \n",
    "    ctcloss=Lambda(ctc_lambda_func,output_shape=(1,),name='ctcloss')([y_pred,labels,input_length,label_length])\n",
    "    \n",
    "   # model_train=keras.models.Model(inputs=[image_input,minx,miny,maxx,maxy,labels,input_length,label_length],outputs=ctc_loss)\n",
    "    model_train=keras.models.Model(inputs=[image_input,labels,input_length,label_length],outputs=ctcloss)\n",
    "    \n",
    "    return model_train,model_pred,maxstringlen\n",
    "\n",
    "    "
   ]
  },
  {
   "cell_type": "code",
   "execution_count": 3,
   "metadata": {},
   "outputs": [],
   "source": [
    "traincrnn,predcrnn,inputlength=crnn()\n",
    "#predcrnn.save('crnnmodel.h5')"
   ]
  },
  {
   "cell_type": "code",
   "execution_count": 5,
   "metadata": {},
   "outputs": [],
   "source": [
    "predcrnn.load_weights('outputmodel/crnnmodel/crnnweight.h5')"
   ]
  },
  {
   "cell_type": "code",
   "execution_count": 18,
   "metadata": {},
   "outputs": [
    {
     "name": "stdout",
     "output_type": "stream",
     "text": [
      "Model: \"model_2\"\n",
      "_________________________________________________________________\n",
      "Layer (type)                 Output Shape              Param #   \n",
      "=================================================================\n",
      "image_input (InputLayer)     [(None, 256, 32, 1)]      0         \n",
      "_________________________________________________________________\n",
      "conv1_1 (Conv2D)             (None, 256, 32, 64)       640       \n",
      "_________________________________________________________________\n",
      "pool1 (MaxPooling2D)         (None, 128, 16, 64)       0         \n",
      "_________________________________________________________________\n",
      "conv2_1 (Conv2D)             (None, 128, 16, 128)      73856     \n",
      "_________________________________________________________________\n",
      "pool2 (MaxPooling2D)         (None, 64, 8, 128)        0         \n",
      "_________________________________________________________________\n",
      "conv3_1 (Conv2D)             (None, 64, 8, 256)        295168    \n",
      "_________________________________________________________________\n",
      "conv3_2 (Conv2D)             (None, 64, 8, 256)        590080    \n",
      "_________________________________________________________________\n",
      "pool3 (MaxPooling2D)         (None, 64, 4, 256)        0         \n",
      "_________________________________________________________________\n",
      "conv4_1 (Conv2D)             (None, 64, 4, 512)        1180160   \n",
      "_________________________________________________________________\n",
      "batchnorm1 (BatchNormalizati (None, 64, 4, 512)        2048      \n",
      "_________________________________________________________________\n",
      "conv5_1 (Conv2D)             (None, 64, 4, 512)        2359808   \n",
      "_________________________________________________________________\n",
      "batchnorm2 (BatchNormalizati (None, 64, 4, 512)        2048      \n",
      "_________________________________________________________________\n",
      "pool5 (MaxPooling2D)         (None, 63, 2, 512)        0         \n",
      "_________________________________________________________________\n",
      "conv6_1 (Conv2D)             (None, 62, 1, 512)        1049088   \n",
      "_________________________________________________________________\n",
      "reshape_1 (Reshape)          (None, 62, 512)           0         \n",
      "_________________________________________________________________\n",
      "bidirectional_2 (Bidirection (None, 62, 512)           1574912   \n",
      "_________________________________________________________________\n",
      "bidirectional_3 (Bidirection (None, 62, 512)           1574912   \n",
      "_________________________________________________________________\n",
      "dense1 (Dense)               (None, 62, 87)            44631     \n",
      "_________________________________________________________________\n",
      "softmax (Activation)         (None, 62, 87)            0         \n",
      "=================================================================\n",
      "Total params: 8,747,351\n",
      "Trainable params: 8,745,303\n",
      "Non-trainable params: 2,048\n",
      "_________________________________________________________________\n"
     ]
    }
   ],
   "source": [
    "predcrnn.summary()"
   ]
  },
  {
   "cell_type": "code",
   "execution_count": 7,
   "metadata": {},
   "outputs": [],
   "source": [
    "import cv2"
   ]
  },
  {
   "cell_type": "code",
   "execution_count": 16,
   "metadata": {},
   "outputs": [],
   "source": [
    "imgw=256\n",
    "imgh=32\n",
    "\n",
    "img=cv2.imread('D:/engocr/testmm/'+'sr01.jpg',cv2.IMREAD_GRAYSCALE)\n",
    "img=cv2.resize(img,(imgw,imgh))\n",
    "\n",
    "img=img.astype(np.float32)\n",
    "img=(img / 255.0)\n",
    "cv2.imshow('ada',img)\n",
    "cv2.waitKey()\n",
    "cv2.destroyAllWindows()\n",
    "\n",
    "#imgs[0,:,:]=img\n",
    "img=img.T\n",
    "img=np.expand_dims(img,axis=-1)\n",
    "img=np.expand_dims(img,axis=0)\n"
   ]
  },
  {
   "cell_type": "code",
   "execution_count": 17,
   "metadata": {},
   "outputs": [],
   "source": [
    "b=predcrnn.predict(img)"
   ]
  },
  {
   "cell_type": "code",
   "execution_count": 18,
   "metadata": {},
   "outputs": [
    {
     "data": {
      "text/plain": [
       "[18, 17, 52, 53]"
      ]
     },
     "execution_count": 18,
     "metadata": {},
     "output_type": "execute_result"
    }
   ],
   "source": [
    "res=[]\n",
    "for data in b[0]:\n",
    "    listdata=list(data)\n",
    "    res.append( listdata.index(max(listdata)))\n",
    "res\n",
    "resu=[]\n",
    "for i,abc in enumerate(res) :\n",
    "    if abc!=86:\n",
    "        resu.append(abc)\n",
    "resu"
   ]
  },
  {
   "cell_type": "code",
   "execution_count": 19,
   "metadata": {},
   "outputs": [
    {
     "data": {
      "text/plain": [
       "'sr01'"
      ]
     },
     "execution_count": 19,
     "metadata": {},
     "output_type": "execute_result"
    }
   ],
   "source": [
    "import string\n",
    "def labels_to_text(labels):     \n",
    "    alphabet = \"abcdefghijklmnopqrstuvwxyz0123456789\"\n",
    "    alphabet87 = string.ascii_lowercase + string.ascii_uppercase + string.digits + ' +-*.,:!?%&$~/()[]<>\"\\'@#_'\n",
    "    return ''.join(list(map(lambda x: alphabet87[int(x)], labels)))\n",
    "labels_to_text(resu)"
   ]
  },
  {
   "cell_type": "code",
   "execution_count": 32,
   "metadata": {},
   "outputs": [
    {
     "data": {
      "text/plain": [
       "array([[64.],\n",
       "       [64.],\n",
       "       [64.],\n",
       "       [64.],\n",
       "       [64.],\n",
       "       [64.],\n",
       "       [64.],\n",
       "       [64.],\n",
       "       [64.],\n",
       "       [64.],\n",
       "       [64.],\n",
       "       [64.],\n",
       "       [64.],\n",
       "       [64.],\n",
       "       [64.],\n",
       "       [64.],\n",
       "       [64.],\n",
       "       [64.],\n",
       "       [64.],\n",
       "       [64.],\n",
       "       [64.],\n",
       "       [64.],\n",
       "       [64.],\n",
       "       [64.],\n",
       "       [64.],\n",
       "       [64.],\n",
       "       [64.],\n",
       "       [64.],\n",
       "       [64.],\n",
       "       [64.],\n",
       "       [64.],\n",
       "       [64.]])"
      ]
     },
     "execution_count": 32,
     "metadata": {},
     "output_type": "execute_result"
    }
   ],
   "source": [
    "inputlength=np.ones((32,1))*(128//2)\n",
    "inputlength"
   ]
  },
  {
   "cell_type": "code",
   "execution_count": 13,
   "metadata": {},
   "outputs": [],
   "source": [
    "def labels_to_text(labels):     \n",
    "    alphabet = \"abcdefghijklmnopqrstuvwxyz0123456789\"\n",
    "    return ''.join(list(map(lambda x: alphabet[int(x)], labels)))"
   ]
  },
  {
   "cell_type": "code",
   "execution_count": 15,
   "metadata": {},
   "outputs": [
    {
     "data": {
      "text/plain": [
       "'m9'"
      ]
     },
     "execution_count": 15,
     "metadata": {},
     "output_type": "execute_result"
    }
   ],
   "source": [
    "labels_to_text(resu)"
   ]
  },
  {
   "cell_type": "code",
   "execution_count": 9,
   "metadata": {},
   "outputs": [
    {
     "data": {
      "text/plain": [
       "array([9.0169685e-04, 2.9561585e-01, 6.8642162e-02, 1.1974521e-01,\n",
       "       8.0261542e-04, 4.7795489e-02, 2.9934574e-02, 7.2134426e-03,\n",
       "       1.6024680e-04, 1.9210909e-02, 4.9673039e-03, 3.1123051e-02,\n",
       "       1.5213985e-02, 9.1239428e-03, 2.8155730e-04, 3.1948622e-02,\n",
       "       1.0874154e-03, 1.6102161e-02, 1.0888829e-01, 9.0564825e-03,\n",
       "       3.7227737e-04, 1.2894981e-02, 1.0179144e-02, 4.9792108e-04,\n",
       "       3.4431620e-03, 1.7110530e-03, 4.9436363e-05, 3.1823625e-03,\n",
       "       2.4091445e-03, 5.9505890e-04, 2.0338944e-04, 9.7430765e-04,\n",
       "       6.3139992e-04, 3.9370960e-04, 5.9121079e-04, 2.4338026e-04,\n",
       "       1.4381313e-01], dtype=float32)"
      ]
     },
     "execution_count": 9,
     "metadata": {},
     "output_type": "execute_result"
    }
   ],
   "source": [
    "b[0][0]"
   ]
  },
  {
   "cell_type": "code",
   "execution_count": 18,
   "metadata": {},
   "outputs": [
    {
     "data": {
      "text/plain": [
       "[14]"
      ]
     },
     "execution_count": 18,
     "metadata": {},
     "output_type": "execute_result"
    }
   ],
   "source": [
    "res=[]\n",
    "for data in b[0]:\n",
    "    listdata=list(data)\n",
    "    res.append( listdata.index(max(listdata)))\n",
    "res\n",
    "resu=[]\n",
    "for i,abc in enumerate(res) :\n",
    "    if abc!=36:\n",
    "        resu.append(abc)\n",
    "resu"
   ]
  },
  {
   "cell_type": "code",
   "execution_count": 19,
   "metadata": {},
   "outputs": [
    {
     "data": {
      "text/plain": [
       "'o'"
      ]
     },
     "execution_count": 19,
     "metadata": {},
     "output_type": "execute_result"
    }
   ],
   "source": [
    "labels_to_text(resu)"
   ]
  },
  {
   "cell_type": "code",
   "execution_count": 26,
   "metadata": {},
   "outputs": [
    {
     "data": {
      "text/plain": [
       "array([[1., 1., 1., 1., 1., 1., 1., 1., 1., 1., 1., 1., 1., 1., 1., 1.,\n",
       "        1., 1., 1., 1., 1., 1., 1., 1., 1., 1., 1., 1., 1., 1.],\n",
       "       [1., 1., 1., 1., 1., 1., 1., 1., 1., 1., 1., 1., 1., 1., 1., 1.,\n",
       "        1., 1., 1., 1., 1., 1., 1., 1., 1., 1., 1., 1., 1., 1.],\n",
       "       [1., 1., 1., 1., 1., 1., 1., 1., 1., 1., 1., 1., 1., 1., 1., 1.,\n",
       "        1., 1., 1., 1., 1., 1., 1., 1., 1., 1., 1., 1., 1., 1.],\n",
       "       [1., 1., 1., 1., 1., 1., 1., 1., 1., 1., 1., 1., 1., 1., 1., 1.,\n",
       "        1., 1., 1., 1., 1., 1., 1., 1., 1., 1., 1., 1., 1., 1.],\n",
       "       [1., 1., 1., 1., 1., 1., 1., 1., 1., 1., 1., 1., 1., 1., 1., 1.,\n",
       "        1., 1., 1., 1., 1., 1., 1., 1., 1., 1., 1., 1., 1., 1.],\n",
       "       [1., 1., 1., 1., 1., 1., 1., 1., 1., 1., 1., 1., 1., 1., 1., 1.,\n",
       "        1., 1., 1., 1., 1., 1., 1., 1., 1., 1., 1., 1., 1., 1.],\n",
       "       [1., 1., 1., 1., 1., 1., 1., 1., 1., 1., 1., 1., 1., 1., 1., 1.,\n",
       "        1., 1., 1., 1., 1., 1., 1., 1., 1., 1., 1., 1., 1., 1.],\n",
       "       [1., 1., 1., 1., 1., 1., 1., 1., 1., 1., 1., 1., 1., 1., 1., 1.,\n",
       "        1., 1., 1., 1., 1., 1., 1., 1., 1., 1., 1., 1., 1., 1.]])"
      ]
     },
     "execution_count": 26,
     "metadata": {},
     "output_type": "execute_result"
    }
   ],
   "source": []
  },
  {
   "cell_type": "code",
   "execution_count": null,
   "metadata": {},
   "outputs": [],
   "source": []
  }
 ],
 "metadata": {
  "kernelspec": {
   "display_name": "Python 3",
   "language": "python",
   "name": "python3"
  },
  "language_info": {
   "codemirror_mode": {
    "name": "ipython",
    "version": 3
   },
   "file_extension": ".py",
   "mimetype": "text/x-python",
   "name": "python",
   "nbconvert_exporter": "python",
   "pygments_lexer": "ipython3",
   "version": "3.6.7"
  }
 },
 "nbformat": 4,
 "nbformat_minor": 4
}

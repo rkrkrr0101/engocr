{
 "cells": [
  {
   "cell_type": "code",
   "execution_count": 1,
   "metadata": {},
   "outputs": [],
   "source": [
    "import os, random\n",
    "import numpy as np\n",
    "import cv2\n",
    "import json \n",
    "import pandas as pd\n"
   ]
  },
  {
   "cell_type": "code",
   "execution_count": 6,
   "metadata": {},
   "outputs": [
    {
     "data": {
      "text/plain": [
       "87"
      ]
     },
     "execution_count": 6,
     "metadata": {},
     "output_type": "execute_result"
    }
   ],
   "source": [
    "import string\n",
    "def convert_to_lable(data):\n",
    "    alphabet = \"abcdefghijklmnopqrstuvwxyz0123456789\"\n",
    "    alphabet28 = string.ascii_lowercase + ' _' # 26 is space, 27 is CTC blank char\n",
    "    alphabet87 = string.ascii_lowercase + string.ascii_uppercase + string.digits + ' +-*.,:!?%&$~/()[]<>\"\\'@#_'\n",
    "    return list(map(lambda x: alphabet87.index(x), data))\n",
    "convert_to_lable('afsfs[]')\n",
    "len(string.ascii_lowercase + string.ascii_uppercase + string.digits + ' +-*.,:!?%&$~/()[]<>\"\\'@#_')\n",
    "\n",
    "\n",
    "\n"
   ]
  },
  {
   "cell_type": "code",
   "execution_count": 7,
   "metadata": {},
   "outputs": [],
   "source": [
    "class crnnGenerator:\n",
    "    def __init__(self,imgpath,labelpath,imgw,imgh,batch_size,maxlen,inputlen):\n",
    "        self.imgw=imgw\n",
    "        self.imgh=imgh\n",
    "        self.batch_size=batch_size\n",
    "        self.imgpath=imgpath\n",
    "        self.imgdir=os.listdir(self.imgpath)\n",
    "        self.imgcount=len(self.imgdir)\n",
    "        self.index=list(range(self.imgcount))\n",
    "        self.curindex=0\n",
    "        self.maxlen=maxlen\n",
    "        self.imgs=np.zeros((self.imgcount,self.imgh,self.imgw))\n",
    "        self.texts=[]\n",
    "        self.labelpath=labelpath\n",
    "        self.labelpd=pd.read_json(self.labelpath,orient='index')\n",
    "        self.inputlen=inputlen\n",
    "    \n",
    "    def build_data(self):\n",
    "        for i,file in enumerate(self.imgdir):\n",
    "            a=self.labelpd.loc[self.labelpd['cropimgid']==file[0:-4] ]['label']\n",
    "            if (len(a.values[0])) <self.maxlen:\n",
    "                img=cv2.imread(self.imgpath+file,cv2.IMREAD_GRAYSCALE)\n",
    "                img=cv2.resize(img,(self.imgw,self.imgh))\n",
    "                img=img.astype(np.float32)\n",
    "                img=(img / 255.0)\n",
    "\n",
    "                self.imgs[i,:,:]=img\n",
    "\n",
    "                \n",
    "\n",
    "\n",
    "                self.texts.append(convert_to_lable(a.values[0]))\n",
    "            else:\n",
    "                self.imgcount=self.imgcount-1\n",
    "        self.index=list(range(self.imgcount)) \n",
    "    def next_sample(self):\n",
    "        self.curindex+=1\n",
    "        if self.curindex>=self.imgcount:\n",
    "            self.curindex=0\n",
    "            random.shuffle(self.index)\n",
    "        \n",
    "        a=self.imgs[self.index[self.curindex]]\n",
    "        b=self.texts[self.index[self.curindex]]\n",
    "        return a,b\n",
    "    \n",
    "    def test(self,i=1,j=2):\n",
    "        a=self.imgs[self.index[self.curindex]]\n",
    "        b=self.texts[self.index[self.curindex]]\n",
    "        return a,b\n",
    "    \n",
    "    def texttest(self,file='000adfe5b817011c_1'):\n",
    "        img=cv2.imread(self.imgpath+file+'.jpg',cv2.IMREAD_GRAYSCALE)\n",
    "\n",
    "        img=cv2.resize(img,(self.imgw,self.imgh))\n",
    "        img=img.astype(np.float32)\n",
    "        img=img/255.0\n",
    "        cv2.imshow('ada',img)\n",
    "        cv2.waitKey()\n",
    "        cv2.destroyAllWindows()\n",
    "    \n",
    "    def next_batch(self):\n",
    "        while True:\n",
    "            xdata=np.ones([self.batch_size,self.imgw,self.imgh,1])\n",
    "            ydata=np.ones([self.batch_size,self.maxlen])\n",
    "            inputlength=np.zeros((self.batch_size,1))   #(self.imgw//2) 최대길이\n",
    "            labellength=np.zeros((self.batch_size,1))\n",
    "            \n",
    "            for i in range(self.batch_size):\n",
    "                img,text=self.next_sample()\n",
    "                \n",
    "                img=img.T\n",
    "                img=np.expand_dims(img,-1)\n",
    "                xdata[i]=img\n",
    "                for j,k in enumerate(text):\n",
    "                    \n",
    "                    \n",
    "                    ydata[i][j]=k\n",
    "                inputlength[i]=self.maxlen\n",
    "                labellength[i]=len(text)\n",
    "                \n",
    "            inputs={\n",
    "                'image_input':xdata,\n",
    "                'labels':ydata,\n",
    "                'input_length':inputlength,\n",
    "                'label_length':labellength\n",
    "            }\n",
    "            outputs={'ctcloss':np.zeros([self.batch_size])}\n",
    "            yield(inputs,outputs)\n",
    "            \n",
    "            \n",
    "        \n",
    "        "
   ]
  },
  {
   "cell_type": "code",
   "execution_count": 5,
   "metadata": {},
   "outputs": [
    {
     "name": "stdout",
     "output_type": "stream",
     "text": [
      "trainstart\n",
      "valstart\n",
      "valend\n"
     ]
    }
   ],
   "source": [
    "\"\"\"\n",
    "cropvalpath='D:/engocr/abcd/'\n",
    "croptrainpath='D:/engocr/abcd/'\n",
    "cropvaljson='D:/engocr/valcrnn.json'\n",
    "batch=32\n",
    "traingen=crnnGenerator(imgpath=croptrainpath,labelpath=cropvaljson,imgw=128,imgh=64,batch_size=batch,\n",
    "                      maxlen=100,inputlen=100)\n",
    "print('trainstart')\n",
    "traingen.build_data()\n",
    "print('valstart')\n",
    "valgen=crnnGenerator(imgpath=cropvalpath,labelpath=cropvaljson,imgw=128,imgh=64,batch_size=batch,\n",
    "                      maxlen=100,inputlen=100)\n",
    "valgen.build_data()\n",
    "print('valend')\n",
    "\n",
    "\"\"\""
   ]
  },
  {
   "cell_type": "code",
   "execution_count": 6,
   "metadata": {},
   "outputs": [
    {
     "data": {
      "text/plain": [
       "(array([[0.60392159, 0.6156863 , 0.63529414, ..., 0.31764707, 0.27450982,\n",
       "         0.24705882],\n",
       "        [0.57254905, 0.54901963, 0.50980395, ..., 0.30588236, 0.26274511,\n",
       "         0.23529412],\n",
       "        [0.43137255, 0.40392157, 0.35686275, ..., 0.3137255 , 0.27058825,\n",
       "         0.23921569],\n",
       "        ...,\n",
       "        [0.43137255, 0.44705883, 0.47058824, ..., 0.46666667, 0.46666667,\n",
       "         0.46666667],\n",
       "        [0.4509804 , 0.4509804 , 0.4509804 , ..., 0.46666667, 0.46666667,\n",
       "         0.46666667],\n",
       "        [0.46666667, 0.45882353, 0.44313726, ..., 0.46666667, 0.46666667,\n",
       "         0.46666667]]),\n",
       " [28, 27, 28, 28, 26, 32, 27, 35, 34, 31])"
      ]
     },
     "execution_count": 6,
     "metadata": {},
     "output_type": "execute_result"
    }
   ],
   "source": [
    "#valgen.test()\n",
    "#valgen.texttest()"
   ]
  },
  {
   "cell_type": "code",
   "execution_count": 7,
   "metadata": {},
   "outputs": [
    {
     "data": {
      "text/plain": [
       "64"
      ]
     },
     "execution_count": 7,
     "metadata": {},
     "output_type": "execute_result"
    }
   ],
   "source": [
    "#ada=cv2.resize(img,(self.imgw,self.imgh))"
   ]
  },
  {
   "cell_type": "code",
   "execution_count": 36,
   "metadata": {},
   "outputs": [
    {
     "name": "stdout",
     "output_type": "stream",
     "text": [
      "0 0\n",
      "1 5\n",
      "2 18\n",
      "3 5\n",
      "4 18\n"
     ]
    },
    {
     "data": {
      "text/plain": [
       "array([[ 1.,  1.,  1., ...,  1.,  1.,  1.],\n",
       "       [ 0.,  5., 18., ...,  1.,  1.,  1.],\n",
       "       [ 1.,  1.,  1., ...,  1.,  1.,  1.],\n",
       "       ...,\n",
       "       [ 1.,  1.,  1., ...,  1.,  1.,  1.],\n",
       "       [ 1.,  1.,  1., ...,  1.,  1.,  1.],\n",
       "       [ 1.,  1.,  1., ...,  1.,  1.,  1.]])"
      ]
     },
     "execution_count": 36,
     "metadata": {},
     "output_type": "execute_result"
    }
   ],
   "source": [
    "\"\"\"\n",
    "y = np.ones([16, 100])\n",
    "b=convert_to_lable('afsfs')\n",
    "for i,j in enumerate(b):\n",
    "    print(i,j)\n",
    "    y[1][i]=j\n",
    "y\n",
    "\"\"\""
   ]
  },
  {
   "cell_type": "code",
   "execution_count": 38,
   "metadata": {},
   "outputs": [
    {
     "data": {
      "text/plain": [
       "array([[9999., 9999., 9999., ..., 9999., 9999., 9999.],\n",
       "       [9999., 9999., 9999., ..., 9999., 9999., 9999.],\n",
       "       [9999., 9999., 9999., ..., 9999., 9999., 9999.],\n",
       "       ...,\n",
       "       [9999., 9999., 9999., ..., 9999., 9999., 9999.],\n",
       "       [9999., 9999., 9999., ..., 9999., 9999., 9999.],\n",
       "       [9999., 9999., 9999., ..., 9999., 9999., 9999.]])"
      ]
     },
     "execution_count": 38,
     "metadata": {},
     "output_type": "execute_result"
    }
   ],
   "source": []
  },
  {
   "cell_type": "code",
   "execution_count": null,
   "metadata": {},
   "outputs": [],
   "source": []
  }
 ],
 "metadata": {
  "kernelspec": {
   "display_name": "Python 3",
   "language": "python",
   "name": "python3"
  },
  "language_info": {
   "codemirror_mode": {
    "name": "ipython",
    "version": 3
   },
   "file_extension": ".py",
   "mimetype": "text/x-python",
   "name": "python",
   "nbconvert_exporter": "python",
   "pygments_lexer": "ipython3",
   "version": "3.6.7"
  }
 },
 "nbformat": 4,
 "nbformat_minor": 4
}

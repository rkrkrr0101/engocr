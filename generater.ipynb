{
 "cells": [
  {
   "cell_type": "code",
   "execution_count": 2,
   "metadata": {},
   "outputs": [],
   "source": [
    "import os, random\n",
    "import numpy as np\n",
    "import cv2\n",
    "import json \n",
    "import pandas as pd\n"
   ]
  },
  {
   "cell_type": "code",
   "execution_count": 3,
   "metadata": {},
   "outputs": [
    {
     "data": {
      "text/plain": [
       "[0, 5, 18, 5, 18]"
      ]
     },
     "execution_count": 3,
     "metadata": {},
     "output_type": "execute_result"
    }
   ],
   "source": [
    "def convert_to_lable(data):\n",
    "    alphabet = \"abcdefghijklmnopqrstuvwxyz0123456789\"\n",
    "    return list(map(lambda x: alphabet.index(x), data))\n",
    "convert_to_lable('afsfs')"
   ]
  },
  {
   "cell_type": "code",
   "execution_count": 39,
   "metadata": {},
   "outputs": [],
   "source": [
    "class crnnGenerator:\n",
    "    def __init__(self,imgpath,labelpath,imgw,imgh,batch_size,maxlen,inputlen):\n",
    "        self.imgw=imgw\n",
    "        self.imgh=imgh\n",
    "        self.batch_size=batch_size\n",
    "        self.imgpath=imgpath\n",
    "        self.imgdir=os.listdir(self.imgpath)\n",
    "        self.imgcount=len(self.imgdir)\n",
    "        self.index=list(range(self.imgcount))\n",
    "        self.curindex=0\n",
    "        self.maxlen=maxlen\n",
    "        self.imgs=np.zeros((self.imgcount,self.imgh,self.imgw))\n",
    "        self.texts=[]\n",
    "        self.labelpath=labelpath\n",
    "        self.labelpd=pd.read_json(self.labelpath,orient='index')\n",
    "        self.inputlen=inputlen\n",
    "    \n",
    "    def build_data(self):\n",
    "        for i,file in enumerate(self.imgdir):\n",
    "            img=cv2.imread(self.imgpath+file,cv2.IMREAD_GRAYSCALE)\n",
    "            img=cv2.resize(img,(self.imgw,self.imgh))\n",
    "            img=img.astype(np.float32)\n",
    "            img=img/255.0\n",
    "            \n",
    "            self.imgs[i,:,:]=img\n",
    "            \n",
    "            a=self.labelpd.loc[self.labelpd['cropimgid']==file[0:-4] ]['label']\n",
    "\n",
    "            \n",
    "            self.texts.append(convert_to_lable(a.values[0]))\n",
    "            \n",
    "    def next_sample(self):\n",
    "        self.curindex+=1\n",
    "        if self.curindex>=self.imgcount:\n",
    "            self.curindex=0\n",
    "            random.shuffle(self.index)\n",
    "        \n",
    "        a=self.imgs[self.index[self.curindex]]\n",
    "        b=self.texts[self.index[self.curindex]]\n",
    "        return a,b\n",
    "    \n",
    "    def test(self,i=1):\n",
    "        for i,file in enumerate(self.imgdir):\n",
    "            a=file\n",
    "            break;\n",
    "            \n",
    "        return a\n",
    "    def texttest(self,file='000adfe5b817011c_1'):\n",
    "        a=self.labelpd.loc[self.labelpd['cropimgid']==file ]['label']\n",
    "        self.texts.append(a.get(file))\n",
    "        return a.get(file)\n",
    "    \n",
    "    def next_batch(self):\n",
    "        while True:\n",
    "            xdata=np.ones([self.batch_size,self.imgw,self.imgh,1])\n",
    "            ydata=np.full([self.batch_size,self.maxlen],999)\n",
    "            inputlength=np.ones((self.batch_size,1))*self.inputlen #최대길이\n",
    "            labellength=np.zeros((self.batch_size,1))\n",
    "            \n",
    "            for i in range(self.batch_size):\n",
    "                img,text=self.next_sample()\n",
    "                \n",
    "                img=img.T\n",
    "                img=np.expand_dims(img,-1)\n",
    "                xdata[i]=img\n",
    "                for j,k in enumerate(text):\n",
    "                    \n",
    "                    \n",
    "                    ydata[i][j]=k\n",
    "                labellength[i]=len(text)\n",
    "                \n",
    "            inputs={\n",
    "                'image_input':xdata,\n",
    "                'labels':ydata,\n",
    "                'input_length':inputlength,\n",
    "                'label_length':labellength\n",
    "            }\n",
    "            outputs={'ctcloss':np.zeros([self.batch_size])}\n",
    "            yield(inputs,outputs)\n",
    "            \n",
    "            \n",
    "        \n",
    "        "
   ]
  },
  {
   "cell_type": "code",
   "execution_count": 24,
   "metadata": {},
   "outputs": [
    {
     "name": "stdout",
     "output_type": "stream",
     "text": [
      "trainstart\n",
      "valstart\n",
      "valend\n"
     ]
    },
    {
     "data": {
      "text/plain": [
       "<generator object crnnGenerator.next_batch at 0x00000178B0522C50>"
      ]
     },
     "execution_count": 24,
     "metadata": {},
     "output_type": "execute_result"
    }
   ],
   "source": [
    "\"\"\"\n",
    "cropvalpath='D:/ocr/abcd/'\n",
    "croptrainpath='D:/ocr/abcd/'\n",
    "cropvaljson='D:/ocr/valcrnn.json'\n",
    "batch=32\n",
    "traingen=crnnGenerator(imgpath=croptrainpath,labelpath=cropvaljson,imgw=30,imgh=30,batch_size=batch,\n",
    "                      maxlen=100,inputlen=100)\n",
    "print('trainstart')\n",
    "traingen.build_data()\n",
    "print('valstart')\n",
    "valgen=crnnGenerator(imgpath=cropvalpath,labelpath=cropvaljson,imgw=30,imgh=30,batch_size=batch,\n",
    "                      maxlen=100,inputlen=100)\n",
    "valgen.build_data()\n",
    "print('valend')\n",
    "traingen.next_batch()\n",
    "\"\"\""
   ]
  },
  {
   "cell_type": "code",
   "execution_count": 15,
   "metadata": {},
   "outputs": [],
   "source": []
  },
  {
   "cell_type": "code",
   "execution_count": 18,
   "metadata": {},
   "outputs": [
    {
     "data": {
      "text/plain": [
       "str"
      ]
     },
     "execution_count": 18,
     "metadata": {},
     "output_type": "execute_result"
    }
   ],
   "source": []
  },
  {
   "cell_type": "code",
   "execution_count": 36,
   "metadata": {},
   "outputs": [
    {
     "name": "stdout",
     "output_type": "stream",
     "text": [
      "0 0\n",
      "1 5\n",
      "2 18\n",
      "3 5\n",
      "4 18\n"
     ]
    },
    {
     "data": {
      "text/plain": [
       "array([[ 1.,  1.,  1., ...,  1.,  1.,  1.],\n",
       "       [ 0.,  5., 18., ...,  1.,  1.,  1.],\n",
       "       [ 1.,  1.,  1., ...,  1.,  1.,  1.],\n",
       "       ...,\n",
       "       [ 1.,  1.,  1., ...,  1.,  1.,  1.],\n",
       "       [ 1.,  1.,  1., ...,  1.,  1.,  1.],\n",
       "       [ 1.,  1.,  1., ...,  1.,  1.,  1.]])"
      ]
     },
     "execution_count": 36,
     "metadata": {},
     "output_type": "execute_result"
    }
   ],
   "source": [
    "\"\"\"\n",
    "y = np.ones([16, 100])\n",
    "b=convert_to_lable('afsfs')\n",
    "for i,j in enumerate(b):\n",
    "    print(i,j)\n",
    "    y[1][i]=j\n",
    "y\n",
    "\"\"\""
   ]
  },
  {
   "cell_type": "code",
   "execution_count": 38,
   "metadata": {},
   "outputs": [
    {
     "data": {
      "text/plain": [
       "array([[9999., 9999., 9999., ..., 9999., 9999., 9999.],\n",
       "       [9999., 9999., 9999., ..., 9999., 9999., 9999.],\n",
       "       [9999., 9999., 9999., ..., 9999., 9999., 9999.],\n",
       "       ...,\n",
       "       [9999., 9999., 9999., ..., 9999., 9999., 9999.],\n",
       "       [9999., 9999., 9999., ..., 9999., 9999., 9999.],\n",
       "       [9999., 9999., 9999., ..., 9999., 9999., 9999.]])"
      ]
     },
     "execution_count": 38,
     "metadata": {},
     "output_type": "execute_result"
    }
   ],
   "source": []
  },
  {
   "cell_type": "code",
   "execution_count": null,
   "metadata": {},
   "outputs": [],
   "source": []
  }
 ],
 "metadata": {
  "kernelspec": {
   "display_name": "Python 3",
   "language": "python",
   "name": "python3"
  },
  "language_info": {
   "codemirror_mode": {
    "name": "ipython",
    "version": 3
   },
   "file_extension": ".py",
   "mimetype": "text/x-python",
   "name": "python",
   "nbconvert_exporter": "python",
   "pygments_lexer": "ipython3",
   "version": "3.6.7"
  }
 },
 "nbformat": 4,
 "nbformat_minor": 4
}
